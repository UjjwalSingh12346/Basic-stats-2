{
 "cells": [
  {
   "cell_type": "code",
   "execution_count": 1,
   "id": "0a261c1e-8185-438f-83c1-2510a926bbbf",
   "metadata": {},
   "outputs": [],
   "source": [
    "import numpy as np\n",
    "\n",
    "# Durability data (in millions of characters)\n",
    "durability_data = np.array([1.13, 1.55, 1.43, 0.92, 1.25, 1.36, 1.32, 0.85, 1.07, 1.48, 1.20, 1.33, 1.18, 1.22, 1.29])\n",
    "\n",
    "# Sample size\n",
    "n = len(durability_data)"
   ]
  },
  {
   "cell_type": "code",
   "execution_count": 2,
   "id": "a97efa45-8d4c-422b-99de-dcd64a8606fa",
   "metadata": {},
   "outputs": [
    {
     "data": {
      "text/plain": [
       "15"
      ]
     },
     "execution_count": 2,
     "metadata": {},
     "output_type": "execute_result"
    }
   ],
   "source": [
    "n "
   ]
  },
  {
   "cell_type": "code",
   "execution_count": 3,
   "id": "ac3e3a41-169f-4769-b825-bcc375efdf04",
   "metadata": {},
   "outputs": [
    {
     "name": "stdout",
     "output_type": "stream",
     "text": [
      "Sample Mean: 1.2386666666666666\n",
      "Sample Standard Deviation: 0.19316412956959936\n"
     ]
    }
   ],
   "source": [
    "# Sample mean\n",
    "sample_mean = np.mean(durability_data)\n",
    "\n",
    "# Sample standard deviation\n",
    "sample_std_dev = np.std(durability_data, ddof=1)  # Using ddof=1 for sample standard deviation\n",
    "\n",
    "print(f\"Sample Mean: {sample_mean}\")\n",
    "print(f\"Sample Standard Deviation: {sample_std_dev}\")"
   ]
  },
  {
   "cell_type": "code",
   "execution_count": null,
   "id": "26444046-671e-40b4-824f-c16b27d172ca",
   "metadata": {},
   "outputs": [],
   "source": []
  }
 ],
 "metadata": {
  "kernelspec": {
   "display_name": "Python 3 (ipykernel)",
   "language": "python",
   "name": "python3"
  },
  "language_info": {
   "codemirror_mode": {
    "name": "ipython",
    "version": 3
   },
   "file_extension": ".py",
   "mimetype": "text/x-python",
   "name": "python",
   "nbconvert_exporter": "python",
   "pygments_lexer": "ipython3",
   "version": "3.12.7"
  }
 },
 "nbformat": 4,
 "nbformat_minor": 5
}
